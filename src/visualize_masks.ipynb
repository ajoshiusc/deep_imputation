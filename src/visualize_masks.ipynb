{
 "cells": [
  {
   "cell_type": "code",
   "execution_count": 32,
   "metadata": {},
   "outputs": [],
   "source": [
    "import os\n",
    "import matplotlib.pyplot as plt\n",
    "\n",
    "import pdb\n",
    "import numpy as np\n",
    "import pandas as pd\n",
    "from utils.logger import Logger\n",
    "\n",
    "from utils.dataset import BraTSDataset\n",
    "from utils.transforms import tumor_seg_transform"
   ]
  },
  {
   "cell_type": "code",
   "execution_count": 33,
   "metadata": {},
   "outputs": [
    {
     "name": "stdout",
     "output_type": "stream",
     "text": [
      "[INFO] Logging level is: DEBUG\n"
     ]
    }
   ],
   "source": [
    "mri_contrasts = [\"FLAIR\", \"T1w\", \"T1Gd\", \"T2w\"]\n",
    "miss_prob_expected = [0.40, 0.12, 0.30, 0.15]\n",
    "mask_root_dir = \"/scratch1/sachinsa/data/masks/brats2017\"\n",
    "RANDOM_SEED = 0\n",
    "fig_save_dir = os.path.join(\"..\", \"figs\", f\"mask\")\n",
    "\n",
    "logger = Logger(log_level='DEBUG')"
   ]
  },
  {
   "cell_type": "markdown",
   "metadata": {},
   "source": [
    "### Load masks"
   ]
  },
  {
   "cell_type": "code",
   "execution_count": 34,
   "metadata": {},
   "outputs": [
    {
     "name": "stdout",
     "output_type": "stream",
     "text": [
      "[DEBUG] train\n",
      "[DEBUG] (386, 4)\n",
      "     FLAIR    T1w   T1Gd    T2w\n",
      "277  False  False  False  False\n",
      "471  False  False  False  False\n",
      "35   False  False  False  False\n",
      "43   False  False   True   True\n",
      "236   True  False  False  False\n",
      "[DEBUG] Actual: {'FLAIR': 0.39896373056994816, 'T1w': 0.11398963730569948, 'T1Gd': 0.3160621761658031, 'T2w': 0.17357512953367876}\n",
      "[DEBUG] Expected: {'FLAIR': 0.4, 'T1w': 0.12, 'T1Gd': 0.3, 'T2w': 0.15}\n",
      "[INFO] MSE: 0.00021274463743993163\n",
      "[DEBUG] Excellent! No all-mask rows present!\n",
      "[DEBUG] val\n",
      "[DEBUG] (97, 4)\n",
      "     FLAIR    T1w   T1Gd    T2w\n",
      "429  False  False  False  False\n",
      "371  False  False  False  False\n",
      "22   False  False  False  False\n",
      "60   False  False   True   True\n",
      "128   True  False  False  False\n",
      "[DEBUG] Actual: {'FLAIR': 0.4020618556701031, 'T1w': 0.12371134020618557, 'T1Gd': 0.27835051546391754, 'T2w': 0.21649484536082475}\n",
      "[DEBUG] Expected: {'FLAIR': 0.4, 'T1w': 0.12, 'T1Gd': 0.3, 'T2w': 0.15}\n",
      "[INFO] MSE: 0.0012270724837921143\n",
      "[DEBUG] Excellent! No all-mask rows present!\n"
     ]
    }
   ],
   "source": [
    "from utils.mask import verify_mask_algo\n",
    "\n",
    "for section in ['train', 'val']:\n",
    "    logger.debug(section)\n",
    "    if section == 'train':\n",
    "        mask_df = pd.read_csv(os.path.join(mask_root_dir, \"train_mask.csv\"), index_col=0)\n",
    "    else:\n",
    "        mask_df = pd.read_csv(os.path.join(mask_root_dir, \"val_mask.csv\"), index_col=0)\n",
    "    logger.debug(mask_df.shape)\n",
    "    print(mask_df.head())\n",
    "    verify_mask_algo(mask_df.values, miss_prob_expected)"
   ]
  },
  {
   "cell_type": "code",
   "execution_count": 35,
   "metadata": {},
   "outputs": [
    {
     "name": "stdout",
     "output_type": "stream",
     "text": [
      "(386, 4)\n"
     ]
    }
   ],
   "source": [
    "mask_df = pd.read_csv(os.path.join(mask_root_dir, \"train_mask.csv\"), index_col=0)\n",
    "mask_vals = mask_df.values\n",
    "print(mask_vals.shape)"
   ]
  },
  {
   "cell_type": "code",
   "execution_count": 38,
   "metadata": {},
   "outputs": [
    {
     "data": {
      "image/png": "[encoded data removed]",
      "text/plain": [
       "<Figure size 864x144 with 1 Axes>"
      ]
     },
     "metadata": {
      "needs_background": "light"
     },
     "output_type": "display_data"
    }
   ],
   "source": [
    "VERTICAL = False\n",
    "colors = ['#4CAF50', '#F44336'] \n",
    "cmap = plt.matplotlib.colors.ListedColormap(colors)\n",
    "\n",
    "if VERTICAL:\n",
    "    plt.figure(figsize=(2, 12))\n",
    "    plt.imshow(mask_vals, cmap=cmap, aspect='auto')\n",
    "else:\n",
    "    plt.figure(figsize=(12, 2))\n",
    "    plt.imshow(mask_vals.T[:,:200], cmap=cmap, aspect='auto')\n",
    "# plt.title('Distribution of mask', fontsize=15)\n",
    "# ax = plt.gca()\n",
    "# ax.yaxis.set_ticks_position('top') \n",
    "# ax.yaxis.set_label_position('top') \n",
    "plt.xticks(fontsize=15)\n",
    "plt.xlabel('Index', fontsize=15)\n",
    "plt.yticks(ticks=np.arange(len(mri_contrasts)), labels=mri_contrasts, fontsize=15)\n",
    "\n",
    "\n",
    "plt.savefig(os.path.join(fig_save_dir, \"mask.png\"), facecolor='white')\n",
    "plt.show()"
   ]
  },
  {
   "cell_type": "code",
   "execution_count": 37,
   "metadata": {},
   "outputs": [
    {
     "data": {
      "image/png": "[encoded data removed]",
      "text/plain": [
       "<Figure size 144x864 with 1 Axes>"
      ]
     },
     "metadata": {
      "needs_background": "light"
     },
     "output_type": "display_data"
    }
   ],
   "source": [
    "VERTICAL = True\n",
    "colors = ['green', 'red'] \n",
    "cmap = plt.matplotlib.colors.ListedColormap(colors)\n",
    "\n",
    "plt.figure(figsize=(2, 12))\n",
    "if not VERTICAL:\n",
    "    mask_vals = mask_vals.T\n",
    "plt.imshow(mask_vals, cmap=cmap, aspect='auto')\n",
    "plt.title('Training mask', fontsize=14)\n",
    "ax = plt.gca()\n",
    "ax.xaxis.set_ticks_position('top') \n",
    "ax.xaxis.set_label_position('top') \n",
    "plt.xticks(ticks=np.arange(len(mri_contrasts)), labels=mri_contrasts, fontsize=10)\n",
    "\n",
    "plt.show()"
   ]
  }
 ],
 "metadata": {
  "kernelspec": {
   "display_name": "myenv-4",
   "language": "python",
   "name": "myenv-4"
  },
  "language_info": {
   "codemirror_mode": {
    "name": "ipython",
    "version": 3
   },
   "file_extension": ".py",
   "mimetype": "text/x-python",
   "name": "python",
   "nbconvert_exporter": "python",
   "pygments_lexer": "ipython3",
   "version": "3.9.12"
  }
 },
 "nbformat": 4,
 "nbformat_minor": 2
}
