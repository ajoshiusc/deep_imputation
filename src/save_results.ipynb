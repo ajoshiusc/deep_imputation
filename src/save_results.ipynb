{
 "cells": [
  {
   "cell_type": "markdown",
   "metadata": {},
   "source": [
    "# To save synthetic results for downstream task"
   ]
  },
  {
   "cell_type": "code",
   "execution_count": 1,
   "metadata": {},
   "outputs": [],
   "source": [
    "RUN_ID = 40 # mean t1gd\n",
    "RANDOM_SEED = 0\n",
    "ROOT_DIR = \"/scratch1/sachinsa/cont_syn\""
   ]
  },
  {
   "cell_type": "code",
   "execution_count": null,
   "metadata": {},
   "outputs": [],
   "source": [
    "import os\n",
    "import pandas as pd\n",
    "\n",
    "import pdb\n",
    "import numpy as np\n",
    "from utils.logger import Logger\n",
    "\n",
    "import torch\n",
    "from torch.utils.data import DataLoader\n",
    "import nibabel as nib\n",
    "\n",
    "from utils.model import create_UNet3D, inference\n",
    "from utils.transforms import contr_syn_transform_2 as data_transform\n",
    "from utils.dataset import BraTSDataset\n",
    "\n",
    "logger = Logger(log_level='DEBUG')"
   ]
  },
  {
   "cell_type": "code",
   "execution_count": 3,
   "metadata": {},
   "outputs": [],
   "source": [
    "save_dir = os.path.join('/scratch1/sachinsa/data/contr_generated', f\"run_{RUN_ID:03d}\")\n",
    "os.makedirs(save_dir, exist_ok=True)"
   ]
  },
  {
   "cell_type": "code",
   "execution_count": 4,
   "metadata": {},
   "outputs": [],
   "source": [
    "input_filter = [0,1,3]"
   ]
  },
  {
   "cell_type": "code",
   "execution_count": 5,
   "metadata": {},
   "outputs": [],
   "source": [
    "device = torch.device(\"cuda:0\")\n",
    "out_channels = 1\n",
    "model = create_UNet3D(len(input_filter), out_channels, device)"
   ]
  },
  {
   "cell_type": "code",
   "execution_count": 6,
   "metadata": {},
   "outputs": [],
   "source": [
    "all_dataset = BraTSDataset(\n",
    "    version='2017',\n",
    "    section='all',\n",
    "    seed = RANDOM_SEED,\n",
    "    transform = data_transform['val']\n",
    ")\n",
    "all_loader = DataLoader(all_dataset, batch_size=1, shuffle=False, num_workers=8)"
   ]
  },
  {
   "cell_type": "code",
   "execution_count": 50,
   "metadata": {},
   "outputs": [],
   "source": [
    "load_dir = os.path.join(ROOT_DIR, f\"run_{RUN_ID:03d}\")\n",
    "checkpoint = torch.load(os.path.join(load_dir, 'best_checkpoint.pth'), weights_only=True)\n",
    "model.load_state_dict(checkpoint['model_state_dict'])\n",
    "model.eval()\n",
    "channels = [\"FLAIR\", \"T1w\", \"T1Gd\", \"T2w\"]"
   ]
  },
  {
   "cell_type": "code",
   "execution_count": null,
   "metadata": {},
   "outputs": [],
   "source": [
    "with torch.no_grad():\n",
    "    for this_data in all_loader:\n",
    "        this_inputs, this_ids = (\n",
    "            this_data[\"image\"].to(device),\n",
    "            this_data[\"id\"],\n",
    "        )\n",
    "        this_inputs = this_inputs[:,input_filter, ...]\n",
    "        this_outputs = inference(this_inputs, model)\n",
    "        this_combined = torch.cat([this_inputs[:, :2, ...], this_outputs, this_inputs[:, 2:, ...]], dim=1)\n",
    "        \n",
    "        mri_array = this_combined[0].detach().permute(1, 2, 3, 0).cpu().numpy()\n",
    "        nifti_img = nib.Nifti1Image(mri_array,affine=np.eye(4))\n",
    "        output_filename = os.path.join(save_dir, f'BRATS_{this_ids[0]:03d}.nii.gz')\n",
    "        print(output_filename)\n",
    "        nib.save(nifti_img, output_filename)"
   ]
  }
 ],
 "metadata": {
  "kernelspec": {
   "display_name": "Python 3",
   "language": "python",
   "name": "python3"
  },
  "language_info": {
   "codemirror_mode": {
    "name": "ipython",
    "version": 3
   },
   "file_extension": ".py",
   "mimetype": "text/x-python",
   "name": "python",
   "nbconvert_exporter": "python",
   "pygments_lexer": "ipython3",
   "version": "3.9.21"
  }
 },
 "nbformat": 4,
 "nbformat_minor": 2
}
