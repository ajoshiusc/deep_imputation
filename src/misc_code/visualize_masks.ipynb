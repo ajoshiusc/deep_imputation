{
 "cells": [
  {
   "cell_type": "code",
   "execution_count": 1,
   "metadata": {},
   "outputs": [],
   "source": [
    "import os\n",
    "import matplotlib.pyplot as plt\n",
    "\n",
    "import pdb\n",
    "import numpy as np\n",
    "import pandas as pd\n",
    "from utils.logger import Logger\n",
    "\n",
    "from utils.dataset import BraTSDataset\n",
    "from utils.transforms import tumor_seg_transform"
   ]
  },
  {
   "cell_type": "code",
   "execution_count": 2,
   "metadata": {},
   "outputs": [
    {
     "name": "stdout",
     "output_type": "stream",
     "text": [
      "[INFO] Logging level is: DEBUG\n"
     ]
    }
   ],
   "source": [
    "mri_contrasts = [\"FLAIR\", \"T1w\", \"T1Gd\", \"T2w\"]\n",
    "miss_prob_expected = [0.40, 0.12, 0.30, 0.15]\n",
    "mask_root_dir = \"/scratch1/sachinsa/data/masks/brats2017\"\n",
    "RANDOM_SEED = 0\n",
    "\n",
    "logger = Logger(log_level='DEBUG')"
   ]
  },
  {
   "cell_type": "markdown",
   "metadata": {},
   "source": [
    "### Load masks"
   ]
  },
  {
   "cell_type": "code",
   "execution_count": 4,
   "metadata": {},
   "outputs": [
    {
     "name": "stdout",
     "output_type": "stream",
     "text": [
      "[INFO] Logging level is: DEBUG\n",
      "[DEBUG] train\n",
      "[DEBUG] (386, 4)\n",
      "     FLAIR    T1w   T1Gd    T2w\n",
      "277  False  False  False  False\n",
      "471  False  False  False  False\n",
      "35   False  False  False  False\n",
      "43   False  False   True   True\n",
      "236   True  False  False  False\n",
      "[DEBUG] Actual: {'FLAIR': 0.39896373056994816, 'T1w': 0.11398963730569948, 'T1Gd': 0.3160621761658031, 'T2w': 0.17357512953367876}\n",
      "[DEBUG] Expected: {'FLAIR': 0.4, 'T1w': 0.12, 'T1Gd': 0.3, 'T2w': 0.15}\n",
      "[INFO] MSE: 0.00021274463743993163\n",
      "[DEBUG] Excellent! No all-mask rows present!\n",
      "[DEBUG] val\n",
      "[DEBUG] (97, 4)\n",
      "     FLAIR    T1w   T1Gd    T2w\n",
      "429  False  False  False  False\n",
      "371  False  False  False  False\n",
      "22   False  False  False  False\n",
      "60   False  False   True   True\n",
      "128   True  False  False  False\n",
      "[DEBUG] Actual: {'FLAIR': 0.4020618556701031, 'T1w': 0.12371134020618557, 'T1Gd': 0.27835051546391754, 'T2w': 0.21649484536082475}\n",
      "[DEBUG] Expected: {'FLAIR': 0.4, 'T1w': 0.12, 'T1Gd': 0.3, 'T2w': 0.15}\n",
      "[INFO] MSE: 0.0012270724837921143\n",
      "[DEBUG] Excellent! No all-mask rows present!\n"
     ]
    }
   ],
   "source": [
    "from utils.mask import verify_mask_algo\n",
    "\n",
    "for section in ['train', 'val']:\n",
    "    logger.debug(section)\n",
    "    if section == 'train':\n",
    "        mask_df = pd.read_csv(os.path.join(mask_root_dir, \"train_mask.csv\"), index_col=0)\n",
    "    else:\n",
    "        mask_df = pd.read_csv(os.path.join(mask_root_dir, \"val_mask.csv\"), index_col=0)\n",
    "    logger.debug(mask_df.shape)\n",
    "    print(mask_df.head())\n",
    "    verify_mask_algo(mask_df.values, miss_prob_expected)"
   ]
  },
  {
   "cell_type": "code",
   "execution_count": 8,
   "metadata": {},
   "outputs": [
    {
     "name": "stdout",
     "output_type": "stream",
     "text": [
      "(386, 4)\n"
     ]
    }
   ],
   "source": [
    "mask_df = pd.read_csv(os.path.join(mask_root_dir, \"train_mask.csv\"), index_col=0)\n",
    "mask_vals = mask_df.values\n",
    "print(mask_vals.shape)"
   ]
  },
  {
   "cell_type": "code",
   "execution_count": 18,
   "metadata": {},
   "outputs": [
    {
     "data": {
      "image/png": "[encoded data removed]",
      "text/plain": [
       "<Figure size 144x864 with 1 Axes>"
      ]
     },
     "metadata": {
      "needs_background": "light"
     },
     "output_type": "display_data"
    }
   ],
   "source": [
    "# Define a custom colormap: True = Red, False = Green\n",
    "colors = ['green', 'red']  # False = Green, True = Red\n",
    "cmap = plt.matplotlib.colors.ListedColormap(colors)\n",
    "\n",
    "# Plot the Boolean array\n",
    "plt.figure(figsize=(2, 12))  # Adjust figure size for better visibility\n",
    "plt.imshow(mask_vals, cmap=cmap, aspect='auto')\n",
    "# plt.colorbar(ticks=[0, 1], label='Value')  # Add a colorbar for clarity\n",
    "plt.title('Training mask', fontsize=14)\n",
    "# plt.xlabel('Columns')\n",
    "ax = plt.gca()\n",
    "ax.xaxis.set_ticks_position('top')  # Place ticks at the top\n",
    "ax.xaxis.set_label_position('top')  # Place the x-axis label at the top\n",
    "plt.xticks(ticks=np.arange(len(mri_contrasts)), labels=mri_contrasts, fontsize=10)\n",
    "# plt.ylabel('Rows')\n",
    "\n",
    "# Show the plot\n",
    "plt.show()"
   ]
  }
 ],
 "metadata": {
  "kernelspec": {
   "display_name": "myenv-4",
   "language": "python",
   "name": "myenv-4"
  },
  "language_info": {
   "codemirror_mode": {
    "name": "ipython",
    "version": 3
   },
   "file_extension": ".py",
   "mimetype": "text/x-python",
   "name": "python",
   "nbconvert_exporter": "python",
   "pygments_lexer": "ipython3",
   "version": "3.9.12"
  }
 },
 "nbformat": 4,
 "nbformat_minor": 2
}
