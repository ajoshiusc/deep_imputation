{
 "cells": [
  {
   "cell_type": "code",
   "execution_count": null,
   "metadata": {},
   "outputs": [],
   "source": [
    "import os\n",
    "import matplotlib.pyplot as plt\n",
    "\n",
    "import pdb\n",
    "import numpy as np\n",
    "import pandas as pd\n",
    "from utils.logger import Logger\n",
    "\n",
    "from utils.dataset import BraTSDataset\n",
    "from utils.transforms import tumor_seg_transform"
   ]
  },
  {
   "cell_type": "code",
   "execution_count": null,
   "metadata": {},
   "outputs": [],
   "source": [
    "mri_contrasts = [\"FLAIR\", \"T1w\", \"T1Gd\", \"T2w\"]\n",
    "miss_prob_expected = [0.40, 0.12, 0.30, 0.15]\n",
    "mask_root_dir = \"/scratch1/sachinsa/data/masks/brats2017\"\n",
    "RANDOM_SEED = 0\n",
    "fig_save_dir = os.path.join(\"..\", \"figs\", f\"mask\")\n",
    "\n",
    "logger = Logger(log_level='DEBUG')"
   ]
  },
  {
   "cell_type": "markdown",
   "metadata": {},
   "source": [
    "### Load masks"
   ]
  },
  {
   "cell_type": "code",
   "execution_count": null,
   "metadata": {},
   "outputs": [],
   "source": [
    "from utils.mask import verify_mask_algo\n",
    "\n",
    "for section in ['train', 'val']:\n",
    "    logger.debug(section)\n",
    "    if section == 'train':\n",
    "        mask_df = pd.read_csv(os.path.join(mask_root_dir, \"train_mask.csv\"), index_col=0)\n",
    "    else:\n",
    "        mask_df = pd.read_csv(os.path.join(mask_root_dir, \"val_mask.csv\"), index_col=0)\n",
    "    logger.debug(mask_df.shape)\n",
    "    print(mask_df.head())\n",
    "    verify_mask_algo(mask_df.values, miss_prob_expected)"
   ]
  },
  {
   "cell_type": "code",
   "execution_count": null,
   "metadata": {},
   "outputs": [],
   "source": [
    "mask_df = pd.read_csv(os.path.join(mask_root_dir, \"train_mask.csv\"), index_col=0)\n",
    "mask_vals = mask_df.values\n",
    "print(mask_vals.shape)"
   ]
  },
  {
   "cell_type": "code",
   "execution_count": null,
   "metadata": {},
   "outputs": [],
   "source": [
    "VERTICAL = False\n",
    "colors = ['#4CAF50', '#F44336'] \n",
    "cmap = plt.matplotlib.colors.ListedColormap(colors)\n",
    "\n",
    "scale = 2\n",
    "fontsize = scale*15\n",
    "\n",
    "if VERTICAL:\n",
    "    plt.figure(figsize=(2, 12))\n",
    "    plt.imshow(mask_vals, cmap=cmap, aspect='auto')\n",
    "else:\n",
    "    plt.figure(figsize=(scale*12, scale*2))\n",
    "    plt.imshow(mask_vals.T[:,:200], cmap=cmap, aspect='auto')\n",
    "# plt.title('Distribution of mask', fontsize=fontsize)\n",
    "# ax = plt.gca()\n",
    "# ax.yaxis.set_ticks_position('top') \n",
    "# ax.yaxis.set_label_position('top') \n",
    "plt.xticks(fontsize=fontsize)\n",
    "plt.xlabel('Index', fontsize=fontsize)\n",
    "plt.yticks(ticks=np.arange(len(mri_contrasts)), labels=mri_contrasts, fontsize=fontsize)\n",
    "\n",
    "\n",
    "plt.savefig(os.path.join(fig_save_dir, \"mask.png\"), facecolor='white')\n",
    "plt.show()"
   ]
  },
  {
   "cell_type": "code",
   "execution_count": null,
   "metadata": {},
   "outputs": [],
   "source": [
    "VERTICAL = True\n",
    "colors = ['green', 'red'] \n",
    "cmap = plt.matplotlib.colors.ListedColormap(colors)\n",
    "\n",
    "plt.figure(figsize=(2, 12))\n",
    "if not VERTICAL:\n",
    "    mask_vals = mask_vals.T\n",
    "plt.imshow(mask_vals, cmap=cmap, aspect='auto')\n",
    "plt.title('Training mask', fontsize=14)\n",
    "ax = plt.gca()\n",
    "ax.xaxis.set_ticks_position('top') \n",
    "ax.xaxis.set_label_position('top') \n",
    "plt.xticks(ticks=np.arange(len(mri_contrasts)), labels=mri_contrasts, fontsize=10)\n",
    "\n",
    "plt.show()"
   ]
  }
 ],
 "metadata": {
  "kernelspec": {
   "display_name": "Python 3",
   "language": "python",
   "name": "python3"
  },
  "language_info": {
   "codemirror_mode": {
    "name": "ipython",
    "version": 3
   },
   "file_extension": ".py",
   "mimetype": "text/x-python",
   "name": "python",
   "nbconvert_exporter": "python",
   "pygments_lexer": "ipython3",
   "version": "3.11.9"
  }
 },
 "nbformat": 4,
 "nbformat_minor": 2
}
