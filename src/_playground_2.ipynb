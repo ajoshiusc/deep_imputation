{
 "cells": [
  {
   "cell_type": "code",
   "execution_count": 1,
   "metadata": {},
   "outputs": [],
   "source": [
    "import os\n",
    "import shutil\n",
    "import tempfile\n",
    "import time\n",
    "import matplotlib.pyplot as plt\n",
    "import pickle\n",
    "\n",
    "from monai.apps import DecathlonDataset\n",
    "from monai.config import print_config\n",
    "from monai.data import DataLoader, decollate_batch\n",
    "from monai.handlers.utils import from_engine\n",
    "from monai.losses import DiceLoss\n",
    "from monai.inferers import sliding_window_inference\n",
    "from monai.metrics import DiceMetric\n",
    "from monai.networks.nets import SegResNet\n",
    "from monai.transforms import (\n",
    "    Activations,\n",
    "    AsDiscrete,\n",
    "    Compose,\n",
    ")\n",
    "from monai.utils import set_determinism\n",
    "from tqdm import tqdm\n",
    "\n",
    "import torch\n",
    "\n",
    "from utils.transforms import tumor_seg_transform as data_transform\n",
    "\n",
    "# print_config()"
   ]
  },
  {
   "cell_type": "code",
   "execution_count": 2,
   "metadata": {},
   "outputs": [],
   "source": [
    "RANDOM_SEED = 0\n",
    "ROOT_DIR = \"/scratch1/sachinsa/brats_seg\"\n",
    "DATA_ROOT_DIR = \"/scratch1/sachinsa/data\""
   ]
  },
  {
   "cell_type": "code",
   "execution_count": 3,
   "metadata": {},
   "outputs": [
    {
     "name": "stdout",
     "output_type": "stream",
     "text": [
      "[INFO] Logging level is: DEBUG\n"
     ]
    }
   ],
   "source": [
    "from utils.logger import Logger\n",
    "logger = Logger(log_level='DEBUG')"
   ]
  },
  {
   "cell_type": "code",
   "execution_count": 4,
   "metadata": {},
   "outputs": [],
   "source": [
    "set_determinism(seed=RANDOM_SEED)"
   ]
  },
  {
   "cell_type": "code",
   "execution_count": 5,
   "metadata": {},
   "outputs": [],
   "source": [
    "train_transform = data_transform['train']\n",
    "val_transform = data_transform['val']"
   ]
  },
  {
   "cell_type": "code",
   "execution_count": 6,
   "metadata": {},
   "outputs": [
    {
     "name": "stdout",
     "output_type": "stream",
     "text": [
      "2024-11-27 13:06:41,701 - INFO - Verified 'Task01_BrainTumour.tar', md5: 240a19d752f0d9e9101544901065d872.\n",
      "2024-11-27 13:06:41,703 - INFO - File exists: /scratch1/sachinsa/data/Task01_BrainTumour.tar, skipped downloading.\n",
      "2024-11-27 13:06:41,704 - INFO - Non-empty folder exists in /scratch1/sachinsa/data/Task01_BrainTumour, skipped extracting.\n",
      "[DEBUG] Data loaded\n",
      "[DEBUG] Length of dataset: 388, 96\n",
      "[DEBUG] Batch-size: 2, 2\n",
      "[DEBUG] Length of data-loaders: 194, 48\n"
     ]
    }
   ],
   "source": [
    "from torch.utils.data import Subset\n",
    "\n",
    "# here we don't cache any data in case out of memory issue\n",
    "train_dataset = DecathlonDataset(\n",
    "    root_dir=DATA_ROOT_DIR,\n",
    "    task=\"Task01_BrainTumour\",\n",
    "    transform=train_transform,\n",
    "    section=\"training\",\n",
    "    download=True,\n",
    "    cache_rate=0.0,\n",
    "    num_workers=8,#4,\n",
    ")\n",
    "val_dataset = DecathlonDataset(\n",
    "    root_dir=DATA_ROOT_DIR,\n",
    "    task=\"Task01_BrainTumour\",\n",
    "    transform=val_transform,\n",
    "    section=\"validation\",\n",
    "    download=False,\n",
    "    cache_rate=0.0,\n",
    "    num_workers=8,#4,\n",
    ")\n",
    "\n",
    "logger.debug(\"Data loaded\")\n",
    "logger.debug(f\"Length of dataset: {len(train_dataset)}, {len(val_dataset)}\")"
   ]
  },
  {
   "cell_type": "code",
   "execution_count": 13,
   "metadata": {},
   "outputs": [
    {
     "name": "stdout",
     "output_type": "stream",
     "text": [
      "[  0   2   3   4   5   9  11  13  14  16  17  18  19  20  22  23  24  25\n",
      "  26  27  28  29  30  31  32  33  34  35  36  38  39  40  41  42  43  44\n",
      "  45  46  47  48  49  50  51  52  53  55  57  58  59  61  62  63  64  65\n",
      "  66  67  68  69  70  72  73  74  77  79  80  81  82  83  84  85  86  87\n",
      "  88  89  91  92  93  94  95  97  98  99 101 103 104 105 106 108 109 110\n",
      " 111 112 114 115 116 117 119 120 121 122 123 125 126 127 128 129 130 131\n",
      " 133 135 136 137 138 139 140 143 145 146 147 148 149 150 151 152 153 154\n",
      " 155 156 157 158 159 160 161 162 163 165 166 167 168 169 171 172 173 174\n",
      " 175 176 177 178 180 181 182 183 184 185 187 189 190 192 193 195 197 198\n",
      " 199 200 201 202 203 204 206 207 208 209 210 211 212 213 214 215 216 217\n",
      " 218 221 222 223 224 226 227 228 229 230 232 233 234 235 237 242 243 244\n",
      " 247 248 249 251 252 253 254 255 256 257 258 259 260 261 262 264 265 266\n",
      " 267 269 270 271 272 273 274 275 276 277 278 279 280 282 283 284 285 286\n",
      " 287 288 289 290 291 292 293 294 295 296 297 298 300 301 302 303 304 305\n",
      " 306 307 312 313 314 315 320 321 322 323 324 325 326 328 330 332 333 334\n",
      " 335 336 337 338 339 340 341 342 343 345 346 347 349 350 353 354 356 358\n",
      " 359 360 361 363 364 365 366 368 369 370 371 372 373 374 375 376 377 378\n",
      " 379 380 381 382 383 384 386 387 388 389 392 393 394 395 396 397 398 399\n",
      " 400 401 402 403 404 406 409 410 411 412 413 414 416 417 420 421 422 423\n",
      " 424 425 426 429 430 431 433 434 435 437 439 440 441 442 445 446 447 448\n",
      " 449 450 451 452 453 454 455 456 457 458 460 461 462 463 464 465 467 468\n",
      " 469 470 471 473 475 478 479 481 482 483]\n"
     ]
    }
   ],
   "source": [
    "ids_ = train_dataset.get_indices()\n",
    "ids_.sort()\n",
    "print(ids_)"
   ]
  },
  {
   "cell_type": "code",
   "execution_count": 14,
   "metadata": {},
   "outputs": [
    {
     "name": "stdout",
     "output_type": "stream",
     "text": [
      "torch.Size([4, 64, 64, 64])\n"
     ]
    }
   ],
   "source": [
    "brain_slice = train_dataset[0]['image']\n",
    "print(brain_slice.shape)"
   ]
  },
  {
   "cell_type": "code",
   "execution_count": 15,
   "metadata": {},
   "outputs": [
    {
     "name": "stdout",
     "output_type": "stream",
     "text": [
      "torch.Size([4, 240, 240, 155])\n"
     ]
    }
   ],
   "source": [
    "brain_slice = val_dataset[0]['image']\n",
    "print(brain_slice.shape)"
   ]
  },
  {
   "cell_type": "code",
   "execution_count": 23,
   "metadata": {},
   "outputs": [
    {
     "name": "stdout",
     "output_type": "stream",
     "text": [
      "torch.Size([240, 240])\n"
     ]
    },
    {
     "data": {
      "text/plain": [
       "<matplotlib.image.AxesImage at 0x7f4781e912b0>"
      ]
     },
     "execution_count": 23,
     "metadata": {},
     "output_type": "execute_result"
    },
    {
     "data": {
      "image/png": "[encoded data removed]",
      "text/plain": [
       "<Figure size 432x288 with 1 Axes>"
      ]
     },
     "metadata": {
      "needs_background": "light"
     },
     "output_type": "display_data"
    }
   ],
   "source": [
    "import numpy as np\n",
    "id_ = 75\n",
    "ids_ = val_dataset.get_indices()\n",
    "this_data = val_dataset[np.where(ids_ == id_)[0][0]]\n",
    "brain_slice = val_dataset[0]['image'][1][...,77].T\n",
    "print(brain_slice.shape)\n",
    "plt.imshow(brain_slice, cmap='gray')"
   ]
  }
 ],
 "metadata": {
  "kernelspec": {
   "display_name": "myenv-4",
   "language": "python",
   "name": "myenv-4"
  },
  "language_info": {
   "codemirror_mode": {
    "name": "ipython",
    "version": 3
   },
   "file_extension": ".py",
   "mimetype": "text/x-python",
   "name": "python",
   "nbconvert_exporter": "python",
   "pygments_lexer": "ipython3",
   "version": "3.9.12"
  }
 },
 "nbformat": 4,
 "nbformat_minor": 2
}
