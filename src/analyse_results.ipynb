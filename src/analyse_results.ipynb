{
 "cells": [
  {
   "cell_type": "markdown",
   "metadata": {},
   "source": [
    "## To analyse the training result"
   ]
  },
  {
   "cell_type": "markdown",
   "metadata": {},
   "source": [
    "### Set parameters"
   ]
  },
  {
   "cell_type": "code",
   "execution_count": null,
   "metadata": {},
   "outputs": [],
   "source": [
    "RUN_ID = 0 # set this to prevent overlapped saving of model and data\n",
    "VARIANCE_THRESHOLD = True\n",
    "ROOT_DIR = \"/scratch1/sachinsa/monai_data_1\""
   ]
  },
  {
   "cell_type": "code",
   "execution_count": null,
   "metadata": {},
   "outputs": [],
   "source": [
    "import os\n",
    "import matplotlib.pyplot as plt\n",
    "\n",
    "import pdb\n",
    "import numpy as np\n",
    "import pickle\n",
    "from dataset import BrainMRIDataset\n",
    "from logger import Logger\n",
    "\n",
    "logger = Logger(log_level='DEBUG')"
   ]
  },
  {
   "cell_type": "code",
   "execution_count": null,
   "metadata": {},
   "outputs": [],
   "source": [
    "load_dir = os.path.join(ROOT_DIR, f\"run_{RUN_ID}\")\n",
    "fig_save_dir = os.path.join(\"..\", \"figs\", f\"run_{RUN_ID}\")\n",
    "os.makedirs(fig_save_dir, exist_ok=True)"
   ]
  },
  {
   "cell_type": "code",
   "execution_count": null,
   "metadata": {},
   "outputs": [],
   "source": [
    "with open(os.path.join(load_dir, 'training_info.pkl'), 'rb') as f:\n",
    "    training_info = pickle.load(f)\n",
    "    epoch_loss_values = training_info['epoch_loss_values']\n",
    "    metric_values = training_info['metric_values']\n",
    "\n",
    "with open(os.path.join(load_dir, 'params.pkl'), 'rb') as f:\n",
    "    params = pickle.load(f)\n",
    "    DO_MASK = params['DO_MASK']\n",
    "    QR_REGRESSION = params['QR_REGRESSION']\n",
    "\n",
    "logger.info(\"PARAMETERS\\n-----------------\")\n",
    "logger.info(f\"RUN_ID: {RUN_ID}\")\n",
    "logger.info(f\"QR_REGRESSION: {QR_REGRESSION}\")\n",
    "logger.info(f\"DO_MASK: {DO_MASK}\")\n",
    "logger.info(f\"ROOT_DIR: {ROOT_DIR}\")\n",
    "print(\"\")"
   ]
  },
  {
   "cell_type": "code",
   "execution_count": null,
   "metadata": {},
   "outputs": [],
   "source": [
    "max_epochs = len(epoch_loss_values)\n",
    "val_interval = len(epoch_loss_values)//len(metric_values)"
   ]
  },
  {
   "cell_type": "code",
   "execution_count": null,
   "metadata": {},
   "outputs": [],
   "source": [
    "len(epoch_loss_values)"
   ]
  },
  {
   "cell_type": "code",
   "execution_count": null,
   "metadata": {},
   "outputs": [],
   "source": [
    "nan_ratio = np.sum(np.isnan(epoch_loss_values))/len(epoch_loss_values)\n",
    "print(f\"{100*nan_ratio:.1f}% of values are nan!!!\")"
   ]
  },
  {
   "cell_type": "code",
   "execution_count": null,
   "metadata": {},
   "outputs": [],
   "source": [
    "MULTI_TRAINING_FIGURE = True\n",
    "\n",
    "if not MULTI_TRAINING_FIGURE:\n",
    "    plt.figure(\"train\", (6, 4))\n",
    "    x = [i + 1 for i in range(len(epoch_loss_values))]\n",
    "    y = epoch_loss_values\n",
    "    plt.xlabel(\"epoch\")\n",
    "    plt.ylabel(\"loss - log\")\n",
    "    plt.yscale('log')\n",
    "    plt.plot(x, y, color=\"red\")\n",
    "    plt.title(\"Training: Gaussian Log Likelihood Loss\", fontsize=25)\n",
    "    plt.savefig(os.path.join(fig_save_dir, \"train_plot.png\"), facecolor='white')\n",
    "    plt.show()\n",
    "else:\n",
    "    plt.figure(\"train\", (18, 4))\n",
    "    plt.subplot(1, 3, 1)\n",
    "    x = [i + 1 for i in range(len(epoch_loss_values))]\n",
    "    y = epoch_loss_values\n",
    "    plt.xlabel(\"epoch\", fontsize=15)\n",
    "    plt.ylabel(\"loss\", fontsize=15)\n",
    "    # plt.ylabel(\"loss - log\", fontsize=15)\n",
    "    # plt.yscale('log')\n",
    "    plt.plot(x, y, color=\"red\")\n",
    "    plt.suptitle(\"Training: GLL Loss\", fontsize=20)\n",
    "\n",
    "    k = 2\n",
    "    for zoom in [20, 200]:\n",
    "        if len(x) > zoom:\n",
    "            plt.subplot(1, 3, k)\n",
    "            x = [i + 1 for i in range(len(epoch_loss_values))]\n",
    "            y = epoch_loss_values\n",
    "            plt.ylabel(\"loss\", fontsize=15)\n",
    "            plt.xlabel(f\"epoch (from ep. {zoom})\", fontsize=15)\n",
    "            \n",
    "            plt.plot(x[zoom:], y[zoom:], color=\"red\")\n",
    "        k += 1\n",
    "    plt.savefig(os.path.join(fig_save_dir, \"train_plot.png\"), facecolor='white')\n",
    "    plt.show()\n",
    "\n",
    "plt.figure(\"val\", (6, 4))\n",
    "plt.title(\"Validation: 1-MSE\", fontsize=20)\n",
    "x_val = [val_interval * (i + 1) for i in range(len(metric_values))]\n",
    "y_val = metric_values\n",
    "plt.xlabel(\"epoch\", fontsize=15)\n",
    "plt.tight_layout()\n",
    "plt.plot(x_val, y_val, color=\"green\")\n",
    "plt.savefig(os.path.join(fig_save_dir, \"val_plot.png\"), facecolor='white')\n",
    "plt.show()"
   ]
  },
  {
   "cell_type": "markdown",
   "metadata": {},
   "source": [
    "## Inference on the model"
   ]
  },
  {
   "cell_type": "code",
   "execution_count": null,
   "metadata": {},
   "outputs": [],
   "source": [
    "import torch\n",
    "from monai.networks.nets import UNet\n",
    "from monai.transforms import (\n",
    "    LoadImage,\n",
    "    NormalizeIntensity,\n",
    "    Orientation,\n",
    "    CenterSpatialCrop,\n",
    "    Resize,\n",
    "    Spacing,\n",
    "    EnsureType,\n",
    "    EnsureChannelFirst,\n",
    ")\n",
    "from monai.transforms import (\n",
    "    Compose,\n",
    ")\n",
    "from torch.utils.data import Dataset"
   ]
  },
  {
   "cell_type": "code",
   "execution_count": null,
   "metadata": {},
   "outputs": [],
   "source": [
    "device = torch.device(\"cuda:0\")\n",
    "out_channels = 12 if QR_REGRESSION else 8\n",
    "model = UNet(\n",
    "    spatial_dims=3, # 3D\n",
    "    in_channels=4,\n",
    "    out_channels=out_channels,\n",
    "    channels=(4, 8, 16),\n",
    "    strides=(2, 2),\n",
    "    num_res_units=2\n",
    ").to(device)\n",
    "\n",
    "VAL_AMP = True\n",
    "\n",
    "# define inference method\n",
    "def inference(input):\n",
    "    def _compute(input):\n",
    "        output = model(input)\n",
    "        return output\n",
    "\n",
    "    if VAL_AMP:\n",
    "        with torch.amp.autocast('cuda'):\n",
    "            return _compute(input)\n",
    "    else:\n",
    "        return _compute(input)"
   ]
  },
  {
   "cell_type": "code",
   "execution_count": null,
   "metadata": {},
   "outputs": [],
   "source": [
    "PIXEL_DOWNSAMPLE = [2, 2, 2]\n",
    "crop_size = [224, 224, 144]\n",
    "resize_size = [crop_size[i]//PIXEL_DOWNSAMPLE[i] for i in range(len(crop_size))]\n",
    "\n",
    "val_transform = Compose(\n",
    "    [\n",
    "        LoadImage(),\n",
    "        EnsureChannelFirst(),\n",
    "        EnsureType(),\n",
    "        Orientation(axcodes=\"RAS\"),\n",
    "        Spacing(\n",
    "            pixdim=(1.0, 1.0, 1.0),\n",
    "            mode=(\"bilinear\", \"nearest\"),\n",
    "        ),\n",
    "        CenterSpatialCrop(roi_size=crop_size), # added this because model was not handling 155dims\n",
    "        Resize(spatial_size=resize_size, mode='nearest'),\n",
    "        NormalizeIntensity(nonzero=True, channel_wise=True),\n",
    "    ]\n",
    ")"
   ]
  },
  {
   "cell_type": "code",
   "execution_count": null,
   "metadata": {},
   "outputs": [],
   "source": [
    "all_dataset = BrainMRIDataset(\n",
    "    root_dir=ROOT_DIR,\n",
    "    transform = val_transform\n",
    ")"
   ]
  },
  {
   "cell_type": "code",
   "execution_count": null,
   "metadata": {},
   "outputs": [],
   "source": [
    "checkpoint = torch.load(os.path.join(load_dir, 'latest_checkpoint.pth'), weights_only=True)\n",
    "model.load_state_dict(checkpoint['model_state_dict'])\n",
    "model.eval()\n",
    "channels = [\"FLAIR\", \"T1w\", \"T1gd\", \"T2w\"]\n",
    "\n",
    "with torch.no_grad():\n",
    "    this_input = all_dataset[0]\n",
    "    input_image = this_input[\"image\"].unsqueeze(0).to(device)\n",
    "    if DO_MASK:\n",
    "        input_mask = [True, False, True, False]\n",
    "        input_image[:, input_mask, ...] = 0\n",
    "    this_output = inference(input_image)"
   ]
  },
  {
   "cell_type": "code",
   "execution_count": null,
   "metadata": {},
   "outputs": [],
   "source": [
    "_, _, im_length, im_width, im_height = input_image.shape\n",
    "h_index = im_height//2\n",
    "\n",
    "def plot_brain(index, label):\n",
    "    start_index = None\n",
    "    title = \"\"\n",
    "\n",
    "    if label == \"input\":\n",
    "        start_index = 0\n",
    "        title = \"Input\"\n",
    "        brain_slice = input_image[0, index, :, :, h_index]\n",
    "    elif label == \"mean\":\n",
    "        start_index = 4\n",
    "        title = \"Output: \" + r\"$\\mu$\"\n",
    "        brain_slice = this_output[0, index, :, :, h_index]\n",
    "    elif label == \"var\":\n",
    "        start_index = 8\n",
    "        title = \"Output: \" + r\"$\\sigma$\" + \"\"\n",
    "        brain_slice = this_output[0, index+4, :, :, h_index]\n",
    "        brain_slice = torch.exp(brain_slice)\n",
    "        if VARIANCE_THRESHOLD:\n",
    "            var_threshold = torch.quantile(brain_slice.float(), 0.95).item()\n",
    "            brain_slice[brain_slice >= var_threshold] = var_threshold\n",
    "    elif label == \"q0\":\n",
    "        start_index = 4\n",
    "        title = \"Output: \" + \"q0\"\n",
    "        brain_slice = this_output[0, index, :, :, h_index]\n",
    "    elif label == \"q1\":\n",
    "        start_index = 8\n",
    "        title = \"Output: \" + r\"qL\" + \"\"\n",
    "        brain_slice = 0.5*(this_output[0, index+8, :, :, h_index] - this_output[0, index+4, :, :, h_index])\n",
    "    elif label == \"q2\":\n",
    "        start_index = 12\n",
    "        title = \"Output: \" + r\"qU\" + \"\"\n",
    "        brain_slice = this_output[0, index+8, :, :, h_index]\n",
    "    num_rows = 4 if QR_REGRESSION else 3\n",
    "    plt.subplot(num_rows, 4, start_index + index + 1)\n",
    "    if label == \"input\":\n",
    "        plt.title(channels[i], fontsize=30)\n",
    "    brain_slice = brain_slice.detach().cpu().T\n",
    "    plt.imshow(brain_slice, cmap=\"gray\")\n",
    "    plt.xlabel('')\n",
    "    if i == 0:\n",
    "        plt.ylabel(title, fontsize=30)\n",
    "    plt.xticks([0, im_width - 1], [0, im_width - 1], fontsize=15)\n",
    "    plt.yticks([0, im_length - 1], [0, im_length - 1], fontsize=15)\n",
    "    cbar = plt.colorbar(shrink=0.7)\n",
    "    cbar.ax.tick_params(labelsize=20)\n",
    "\n",
    "plt.figure(\"image\", (24, 18))\n",
    "for i in range(4):\n",
    "    plot_brain(i, \"input\")\n",
    "if QR_REGRESSION:\n",
    "    for i in range(4):\n",
    "        plot_brain(i, \"q0\")\n",
    "    for i in range(4):\n",
    "        plot_brain(i, \"q1\")\n",
    "    for i in range(4):\n",
    "        plot_brain(i, \"q2\")\n",
    "else:\n",
    "    for i in range(4):\n",
    "        plot_brain(i, \"mean\")\n",
    "    for i in range(4):\n",
    "        plot_brain(i, \"var\")\n",
    "\n",
    "plt.suptitle(f\"{this_input['id']} (h={h_index}/{im_height})\", fontsize=20)\n",
    "plt.tight_layout()\n",
    "plt.savefig(os.path.join(fig_save_dir, \"model_inference.png\"), facecolor='white')\n",
    "plt.show()"
   ]
  }
 ],
 "metadata": {
  "kernelspec": {
   "display_name": "myenv-4",
   "language": "python",
   "name": "myenv-4"
  },
  "language_info": {
   "codemirror_mode": {
    "name": "ipython",
    "version": 3
   },
   "file_extension": ".py",
   "mimetype": "text/x-python",
   "name": "python",
   "nbconvert_exporter": "python",
   "pygments_lexer": "ipython3",
   "version": "3.9.12"
  }
 },
 "nbformat": 4,
 "nbformat_minor": 2
}
