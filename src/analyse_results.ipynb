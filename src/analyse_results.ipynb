{
 "cells": [
  {
   "cell_type": "markdown",
   "metadata": {},
   "source": [
    "## To analyse synthesis and uncertainty"
   ]
  },
  {
   "cell_type": "markdown",
   "metadata": {},
   "source": [
    "### Set parameters"
   ]
  },
  {
   "cell_type": "code",
   "execution_count": null,
   "metadata": {},
   "outputs": [],
   "source": [
    "RUN_ID = 24 # set this to prevent overlapped saving of model and data\n",
    "RANDOM_SEED = 0\n",
    "ROOT_DIR = \"/scratch1/sachinsa/cont_syn\"\n",
    "QR_REGRESSION = True"
   ]
  },
  {
   "cell_type": "code",
   "execution_count": null,
   "metadata": {},
   "outputs": [],
   "source": [
    "import os\n",
    "import matplotlib.pyplot as plt\n",
    "\n",
    "import pdb\n",
    "import numpy as np\n",
    "import pickle\n",
    "from utils.logger import Logger\n",
    "\n",
    "logger = Logger(log_level='DEBUG')"
   ]
  },
  {
   "cell_type": "code",
   "execution_count": null,
   "metadata": {},
   "outputs": [],
   "source": [
    "load_dir = os.path.join(ROOT_DIR, f\"run_{RUN_ID}\")\n",
    "fig_save_dir = os.path.join(\"..\", \"figs\", \"runs\", f\"run_{RUN_ID}\")\n",
    "os.makedirs(fig_save_dir, exist_ok=True)"
   ]
  },
  {
   "cell_type": "code",
   "execution_count": null,
   "metadata": {},
   "outputs": [],
   "source": [
    "with open(os.path.join(load_dir, 'training_info.pkl'), 'rb') as f:\n",
    "    training_info = pickle.load(f)\n",
    "    epoch_loss_values = training_info['epoch_loss_values']\n",
    "    metric_values = training_info['metric_values']\n",
    "\n",
    "logger.info(\"PARAMETERS\\n-----------------\")\n",
    "logger.info(f\"RUN_ID: {RUN_ID}\")\n",
    "logger.info(f\"QR_REGRESSION: {QR_REGRESSION}\")\n",
    "logger.info(f\"ROOT_DIR: {ROOT_DIR}\")\n",
    "print(\"\")"
   ]
  },
  {
   "cell_type": "code",
   "execution_count": null,
   "metadata": {},
   "outputs": [],
   "source": [
    "max_epochs = len(epoch_loss_values)\n",
    "val_interval = len(epoch_loss_values)//len(metric_values)\n",
    "print(\"Max epochs:\", max_epochs)"
   ]
  },
  {
   "cell_type": "code",
   "execution_count": null,
   "metadata": {},
   "outputs": [],
   "source": [
    "MULTI_TRAINING_FIGURE = True\n",
    "\n",
    "if not MULTI_TRAINING_FIGURE:\n",
    "    plt.figure(\"train\", (6, 4))\n",
    "    x = [i + 1 for i in range(len(epoch_loss_values))]\n",
    "    y = epoch_loss_values\n",
    "    plt.xlabel(\"epoch\")\n",
    "    plt.ylabel(\"loss - log\")\n",
    "    plt.yscale('log')\n",
    "    plt.plot(x, y, color=\"red\")\n",
    "    plt.title(\"Training: Gaussian Log Likelihood Loss\", fontsize=25)\n",
    "    plt.savefig(os.path.join(fig_save_dir, \"train_plot.png\"), facecolor='white')\n",
    "    plt.show()\n",
    "else:\n",
    "    plt.figure(\"train\", (18, 4))\n",
    "    plt.subplot(1, 3, 1)\n",
    "    x = [i + 1 for i in range(len(epoch_loss_values))]\n",
    "    y = epoch_loss_values\n",
    "    plt.xlabel(\"epoch\", fontsize=15)\n",
    "    plt.ylabel(\"loss\", fontsize=15)\n",
    "    # plt.ylabel(\"loss - log\", fontsize=15)\n",
    "    # plt.yscale('log')\n",
    "    plt.plot(x, y, color=\"red\")\n",
    "    plt.suptitle(\"Training: Loss\", fontsize=20)\n",
    "\n",
    "    k = 2\n",
    "    for zoom in [20, 100]:\n",
    "        if len(x) > zoom:\n",
    "            plt.subplot(1, 3, k)\n",
    "            x = [i + 1 for i in range(len(epoch_loss_values))]\n",
    "            y = epoch_loss_values\n",
    "            plt.ylabel(\"loss\", fontsize=15)\n",
    "            plt.xlabel(f\"epoch (from ep. {zoom})\", fontsize=15)\n",
    "            \n",
    "            plt.plot(x[zoom:], y[zoom:], color=\"red\")\n",
    "        k += 1\n",
    "    plt.savefig(os.path.join(fig_save_dir, \"train_plot.png\"), facecolor='white')\n",
    "    plt.show()\n",
    "\n",
    "plt.figure(\"val\", (6, 4))\n",
    "plt.title(\"Validation: 1-MSE\", fontsize=20)\n",
    "x_val = [val_interval * (i + 1) for i in range(len(metric_values))]\n",
    "y_val = metric_values\n",
    "plt.xlabel(\"epoch\", fontsize=15)\n",
    "plt.tight_layout()\n",
    "plt.plot(x_val, y_val, color=\"green\")\n",
    "plt.savefig(os.path.join(fig_save_dir, \"val_plot.png\"), facecolor='white')\n",
    "# plt.ylim([0, 1])\n",
    "plt.show()"
   ]
  },
  {
   "cell_type": "markdown",
   "metadata": {},
   "source": [
    "## Inference on the model"
   ]
  },
  {
   "cell_type": "code",
   "execution_count": null,
   "metadata": {},
   "outputs": [],
   "source": [
    "import torch\n",
    "\n",
    "from utils.model import create_UNet3D, inference\n",
    "from utils.transforms import contr_syn_transform_2 as data_transform\n",
    "from utils.dataset import BraTSDataset"
   ]
  },
  {
   "cell_type": "code",
   "execution_count": null,
   "metadata": {},
   "outputs": [],
   "source": [
    "device = torch.device(\"cuda:0\")\n",
    "out_channels = 12 if QR_REGRESSION else 8\n",
    "model = create_UNet3D(out_channels, device)"
   ]
  },
  {
   "cell_type": "code",
   "execution_count": null,
   "metadata": {},
   "outputs": [],
   "source": [
    "val_dataset = BraTSDataset(\n",
    "    version='2017',\n",
    "    section = 'validation',\n",
    "    seed = RANDOM_SEED,\n",
    "    transform = data_transform['val']\n",
    ")"
   ]
  },
  {
   "cell_type": "code",
   "execution_count": null,
   "metadata": {},
   "outputs": [],
   "source": [
    "checkpoint = torch.load(os.path.join(load_dir, 'best_checkpoint.pth'), weights_only=True)\n",
    "model.load_state_dict(checkpoint['model_state_dict'])\n",
    "model.eval()\n",
    "channels = [\"FLAIR\", \"T1w\", \"T1Gd\", \"T2w\"]\n",
    "label_list = [\"TC\", \"WT\", \"ET\"]\n",
    "# input_mask = [True, False, True, False]\n",
    "input_mask = [True, False, False, True]\n",
    "\n",
    "# interesting ids with tummor: 328, 448\n",
    "\n",
    "with torch.no_grad():\n",
    "    # this_input = val_dataset.get_random()\n",
    "    this_input = val_dataset.get_with_id(328)\n",
    "    input_image = this_input[\"image\"].unsqueeze(0).to(device)\n",
    "    input_label = this_input[\"label\"]\n",
    "    input_image_copy = input_image.clone()\n",
    "    input_image_copy[:, input_mask, ...] = 0\n",
    "    this_output = inference(input_image_copy, model)"
   ]
  },
  {
   "cell_type": "code",
   "execution_count": null,
   "metadata": {},
   "outputs": [],
   "source": [
    "from utils.plot import BrainPlot"
   ]
  },
  {
   "cell_type": "code",
   "execution_count": null,
   "metadata": {},
   "outputs": [],
   "source": [
    "plt.figure(\"image\", (24, 18))\n",
    "b_plot = BrainPlot(input_image, this_output, input_mask)\n",
    "for i in range(4):\n",
    "    b_plot.plot(\"input\")\n",
    "for i in range(4):\n",
    "    b_plot.plot(\"q0\")\n",
    "for i in range(4):\n",
    "    b_plot.plot(\"diff\")"
   ]
  }
 ],
 "metadata": {
  "kernelspec": {
   "display_name": "myenv-4",
   "language": "python",
   "name": "myenv-4"
  },
  "language_info": {
   "codemirror_mode": {
    "name": "ipython",
    "version": 3
   },
   "file_extension": ".py",
   "mimetype": "text/x-python",
   "name": "python",
   "nbconvert_exporter": "python",
   "pygments_lexer": "ipython3",
   "version": "3.9.12"
  }
 },
 "nbformat": 4,
 "nbformat_minor": 2
}
