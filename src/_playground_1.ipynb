{
 "cells": [
  {
   "cell_type": "code",
   "execution_count": null,
   "metadata": {},
   "outputs": [],
   "source": [
    "import os\n",
    "import time\n",
    "import matplotlib.pyplot as plt\n",
    "import numpy as np\n",
    "import pdb\n",
    "import pandas as pd\n",
    "import pickle\n",
    "\n",
    "from monai.apps import DecathlonDataset\n",
    "from monai.config import print_config\n",
    "from monai.data import DataLoader, decollate_batch\n",
    "from monai.handlers.utils import from_engine\n",
    "from monai.losses import DiceLoss\n",
    "from monai.inferers import sliding_window_inference\n",
    "from monai.metrics import DiceMetric\n",
    "from monai.networks.nets import SegResNet\n",
    "from monai.transforms import (\n",
    "    Activations,\n",
    "    AsDiscrete,\n",
    "    Compose,\n",
    ")\n",
    "from monai.metrics import MSEMetric\n",
    "from monai.utils import set_determinism\n",
    "from tqdm import tqdm\n",
    "\n",
    "import torch\n",
    "from torch.utils.data import Subset\n",
    "\n",
    "from utils.dataset import BraTSDataset\n",
    "from utils.model import create_SegResNet, inference\n",
    "\n",
    "# print_config()"
   ]
  },
  {
   "cell_type": "code",
   "execution_count": null,
   "metadata": {},
   "outputs": [],
   "source": [
    "from utils.logger import Logger\n",
    "logger = Logger(log_level='DEBUG')"
   ]
  },
  {
   "cell_type": "code",
   "execution_count": null,
   "metadata": {},
   "outputs": [],
   "source": [
    "RANDOM_SEED = 0"
   ]
  },
  {
   "cell_type": "code",
   "execution_count": null,
   "metadata": {},
   "outputs": [],
   "source": [
    "set_determinism(seed=RANDOM_SEED)"
   ]
  },
  {
   "cell_type": "code",
   "execution_count": null,
   "metadata": {},
   "outputs": [],
   "source": [
    "from utils.transforms import contr_syn_transform_3 as data_transform"
   ]
  },
  {
   "cell_type": "code",
   "execution_count": null,
   "metadata": {},
   "outputs": [],
   "source": [
    "dataset_orig = BraTSDataset(\n",
    "    version='2017',\n",
    "    processed = False,\n",
    "    section = 'validation',\n",
    "    seed = RANDOM_SEED,\n",
    "    transform = data_transform['val']\n",
    ")\n",
    "loader_orig = DataLoader(dataset_orig, batch_size=1, shuffle=False, num_workers=8)\n",
    "\n",
    "dataset_median = BraTSDataset(\n",
    "    version='2017',\n",
    "    processed = True,\n",
    "    section = 'validation',\n",
    "    seed = RANDOM_SEED,\n",
    "    transform = data_transform['basic']\n",
    ")\n",
    "loader_median = DataLoader(dataset_median, batch_size=1, shuffle=False, num_workers=8)\n",
    "\n",
    "logger.debug(\"Data loaded\")\n",
    "logger.debug(f\"Length of dataset: {len(dataset_orig)}, {len(dataset_median)}\")"
   ]
  },
  {
   "cell_type": "code",
   "execution_count": null,
   "metadata": {},
   "outputs": [],
   "source": [
    "# Load masks\n",
    "mask_root_dir = \"/scratch1/sachinsa/data/masks/brats2017\"\n",
    "train_mask_df = pd.read_csv(os.path.join(mask_root_dir, \"train_mask.csv\"), index_col=0)\n",
    "val_mask_df = pd.read_csv(os.path.join(mask_root_dir, \"val_mask.csv\"), index_col=0)\n",
    "all_mask_df = pd.concat([train_mask_df, val_mask_df], axis=0)\n",
    "all_mask_df.head(2)"
   ]
  },
  {
   "cell_type": "code",
   "execution_count": null,
   "metadata": {},
   "outputs": [],
   "source": [
    "device = torch.device(\"cuda:0\")"
   ]
  },
  {
   "cell_type": "code",
   "execution_count": null,
   "metadata": {},
   "outputs": [],
   "source": [
    "# from utils.model import create_UNet3D, inference\n",
    "\n",
    "# RUN_ID = 22\n",
    "# RANDOM_SEED = 0\n",
    "# ROOT_DIR = \"/scratch1/sachinsa/cont_syn\"\n",
    "# load_dir = os.path.join(ROOT_DIR, f\"run_{RUN_ID}\")\n",
    "\n",
    "# model = create_UNet3D(out_channels=12, device=device)\n",
    "# checkpoint = torch.load(os.path.join(load_dir, 'best_checkpoint.pth'), weights_only=True)\n",
    "# model.load_state_dict(checkpoint['model_state_dict'])\n",
    "\n",
    "# mse_metric = MSEMetric(reduction=\"mean\")"
   ]
  },
  {
   "cell_type": "code",
   "execution_count": null,
   "metadata": {},
   "outputs": [],
   "source": [
    "id_ = 1\n",
    "this_data = dataset_orig[id_]\n",
    "median_data = dataset_median[id_]"
   ]
  },
  {
   "cell_type": "code",
   "execution_count": null,
   "metadata": {},
   "outputs": [],
   "source": [
    "dataset_orig.get_with_id(328);\n",
    "dataset_median.get_with_id(328);"
   ]
  },
  {
   "cell_type": "code",
   "execution_count": null,
   "metadata": {},
   "outputs": [],
   "source": [
    "id_ = 1\n",
    "this_data = dataset_orig[id_]\n",
    "this_inputs = this_data[\"image\"].unsqueeze(0).to(device)\n",
    "this_id = this_data[\"id\"]\n",
    "this_mask = torch.from_numpy(all_mask_df.loc[[this_id], :].values).to(device)\n",
    "\n",
    "median_data = dataset_median[id_]\n",
    "this_saved_median = median_data[\"image\"].unsqueeze(0)[:,:4,...].to(device)"
   ]
  },
  {
   "cell_type": "code",
   "execution_count": null,
   "metadata": {},
   "outputs": [],
   "source": [
    "# with torch.no_grad():\n",
    "#     this_target = this_inputs.clone()\n",
    "#     this_inputs = this_inputs*~this_mask[:,:,None,None,None]\n",
    "#     this_outputs = inference(this_inputs, model)\n",
    "\n",
    "# this_output_median = this_outputs[:,:4,...]\n",
    "# mse_metric(y_pred=this_output_median, y=this_saved_median)\n",
    "\n",
    "# metric = mse_metric.aggregate().item()\n",
    "# mse_metric.reset()\n",
    "# print(f\"mse error: {metric}\")"
   ]
  },
  {
   "cell_type": "code",
   "execution_count": null,
   "metadata": {},
   "outputs": [],
   "source": [
    "h_index = 77\n",
    "c_index = 1 # channel\n",
    "channels = [\"FLAIR\", \"T1w\", \"T1Gd\", \"T2w\"]\n",
    "print(f\"Channel: {channels[c_index]}\")\n",
    "print(f\"ID: {this_id}\")\n",
    "brain_slice = this_inputs.detach().cpu().numpy()\n",
    "brain_slice = brain_slice[0,c_index,:,:,h_index].T\n",
    "plt.figure()\n",
    "plt.title(f'Original: {this_id}')\n",
    "plt.imshow(brain_slice, cmap='gray')\n",
    "plt.colorbar()\n",
    "\n",
    "brain_slice = this_saved_median.detach().cpu().numpy()\n",
    "brain_slice = brain_slice[0,c_index,:,:,h_index].T\n",
    "print(brain_slice.mean(), brain_slice.min(), brain_slice.max())\n",
    "plt.figure()\n",
    "plt.title(f'Saved Median: {this_id}')\n",
    "plt.imshow(brain_slice, cmap='gray')\n",
    "plt.colorbar()\n",
    "\n",
    "# brain_slice = this_output_median.detach().cpu().numpy()\n",
    "# brain_slice = brain_slice[0,c_index,:,:,h_index].T\n",
    "# print(brain_slice.mean(), brain_slice.min(), brain_slice.max())\n",
    "# plt.figure()\n",
    "# plt.title(f'Output Median: {this_id}')\n",
    "# plt.imshow(brain_slice, cmap='gray')\n",
    "# plt.colorbar()"
   ]
  },
  {
   "cell_type": "markdown",
   "metadata": {},
   "source": [
    "MSE: (over no-mask contrasts)"
   ]
  },
  {
   "cell_type": "code",
   "execution_count": null,
   "metadata": {},
   "outputs": [],
   "source": [
    "# model.eval()\n",
    "# i = 0\n",
    "# with torch.no_grad():\n",
    "#     for this_data, median_data in zip(loader_orig,loader_median):\n",
    "#         i+=1\n",
    "#         if i>1:break\n",
    "#         this_inputs, this_ids = (\n",
    "#             this_data[\"image\"].to(device),\n",
    "#             this_data[\"id\"],\n",
    "#         )\n",
    "#         this_mask = torch.from_numpy(all_mask_df.loc[this_ids.tolist(), :].values).to(device)[:,:,None,None,None]\n",
    "#         this_saved_median = median_data[\"image\"][:,:4,...].to(device)\n",
    "#         this_inputs = this_inputs*~this_mask\n",
    "#         this_saved_median = this_saved_median*~this_mask\n",
    "#         mse_metric(y_pred=this_inputs, y=this_saved_median)\n",
    "\n",
    "#     metric = mse_metric.aggregate().item()\n",
    "#     mse_metric.reset()\n",
    "# print(f\"mse error: {metric}\")"
   ]
  },
  {
   "cell_type": "markdown",
   "metadata": {},
   "source": [
    "MSE: (over masked contrasts)"
   ]
  },
  {
   "cell_type": "code",
   "execution_count": null,
   "metadata": {},
   "outputs": [],
   "source": [
    "# model.eval()\n",
    "# i = 0\n",
    "# with torch.no_grad():\n",
    "#     for this_data, median_data in zip(loader_orig,loader_median):\n",
    "#         i+=1\n",
    "#         if i>1:break\n",
    "#         this_inputs, this_ids = (\n",
    "#             this_data[\"image\"].to(device),\n",
    "#             this_data[\"id\"],\n",
    "#         )\n",
    "#         this_mask = torch.from_numpy(all_mask_df.loc[this_ids.tolist(), :].values).to(device)[:,:,None,None,None]\n",
    "#         this_saved_median = median_data[\"image\"][:,:4,...].to(device)\n",
    "#         this_inputs = this_inputs*this_mask\n",
    "#         this_saved_median = this_saved_median*this_mask\n",
    "#         mse_metric(y_pred=this_inputs, y=this_saved_median)\n",
    "\n",
    "#     metric = mse_metric.aggregate().item()\n",
    "#     mse_metric.reset()\n",
    "# print(f\"mse error: {metric}\")"
   ]
  },
  {
   "cell_type": "markdown",
   "metadata": {},
   "source": [
    "MSE (over everything)"
   ]
  },
  {
   "cell_type": "code",
   "execution_count": null,
   "metadata": {},
   "outputs": [],
   "source": [
    "# model.eval()\n",
    "# i = 0\n",
    "# with torch.no_grad():\n",
    "#     for this_data, median_data in zip(loader_orig,loader_median):\n",
    "#         i+=1\n",
    "#         if i>1:break\n",
    "#         this_inputs, this_ids = (\n",
    "#             this_data[\"image\"].to(device),\n",
    "#             this_data[\"id\"],\n",
    "#         )\n",
    "#         # this_mask = torch.from_numpy(all_mask_df.loc[this_ids.tolist(), :].values).to(device)[:,:,None,None,None]\n",
    "#         this_saved_median = median_data[\"image\"][:,:4,...].to(device)\n",
    "#         # this_inputs = this_inputs*this_mask\n",
    "#         # this_saved_median = this_inputs*this_mask\n",
    "#         mse_metric(y_pred=this_inputs, y=this_saved_median)\n",
    "\n",
    "#     metric = mse_metric.aggregate().item()\n",
    "#     mse_metric.reset()\n",
    "# print(f\"mse error: {metric}\")"
   ]
  }
 ],
 "metadata": {
  "kernelspec": {
   "display_name": "myenv-4",
   "language": "python",
   "name": "myenv-4"
  },
  "language_info": {
   "codemirror_mode": {
    "name": "ipython",
    "version": 3
   },
   "file_extension": ".py",
   "mimetype": "text/x-python",
   "name": "python",
   "nbconvert_exporter": "python",
   "pygments_lexer": "ipython3",
   "version": "3.9.12"
  }
 },
 "nbformat": 4,
 "nbformat_minor": 2
}
