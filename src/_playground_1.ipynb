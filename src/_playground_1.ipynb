{
 "cells": [
  {
   "cell_type": "code",
   "execution_count": null,
   "metadata": {},
   "outputs": [],
   "source": [
    "import os\n",
    "import time\n",
    "import matplotlib.pyplot as plt\n",
    "import numpy as np\n",
    "import pdb\n",
    "import pandas as pd\n",
    "import pickle\n",
    "\n",
    "from monai.apps import DecathlonDataset\n",
    "from monai.config import print_config\n",
    "from monai.data import DataLoader, decollate_batch\n",
    "from monai.handlers.utils import from_engine\n",
    "from monai.losses import DiceLoss\n",
    "from monai.inferers import sliding_window_inference\n",
    "from monai.metrics import DiceMetric\n",
    "from monai.networks.nets import SegResNet\n",
    "from monai.transforms import (\n",
    "    Activations,\n",
    "    AsDiscrete,\n",
    "    Compose,\n",
    ")\n",
    "from monai.utils import set_determinism\n",
    "from tqdm import tqdm\n",
    "\n",
    "import torch\n",
    "from torch.utils.data import Subset\n",
    "\n",
    "from utils.dataset import BraTSDataset\n",
    "from utils.model import create_SegResNet, inference\n",
    "\n",
    "# print_config()"
   ]
  },
  {
   "cell_type": "code",
   "execution_count": null,
   "metadata": {},
   "outputs": [],
   "source": [
    "from utils.logger import Logger\n",
    "logger = Logger(log_level='DEBUG')"
   ]
  },
  {
   "cell_type": "code",
   "execution_count": null,
   "metadata": {},
   "outputs": [],
   "source": [
    "RANDOM_SEED = 0"
   ]
  },
  {
   "cell_type": "code",
   "execution_count": null,
   "metadata": {},
   "outputs": [],
   "source": [
    "set_determinism(seed=RANDOM_SEED)"
   ]
  },
  {
   "cell_type": "code",
   "execution_count": null,
   "metadata": {},
   "outputs": [],
   "source": [
    "from utils.transforms import tumor_seg_transform_2"
   ]
  },
  {
   "cell_type": "code",
   "execution_count": null,
   "metadata": {},
   "outputs": [],
   "source": [
    "# train_dataset = BraTSDataset(\n",
    "#     version='2017',\n",
    "#     processed = USE_PROCESSED,\n",
    "#     section = 'training',\n",
    "#     seed = RANDOM_SEED,\n",
    "#     transform = tumor_seg_transform_2['train']\n",
    "# )\n",
    "\n",
    "val_dataset_orig = BraTSDataset(\n",
    "    version='2017',\n",
    "    processed = False,\n",
    "    section = 'validation',\n",
    "    seed = RANDOM_SEED,\n",
    "    transform = tumor_seg_transform_2['val']\n",
    ")\n",
    "\n",
    "val_dataset_median = BraTSDataset(\n",
    "    version='2017',\n",
    "    processed = True,\n",
    "    section = 'validation',\n",
    "    seed = RANDOM_SEED,\n",
    "    transform = tumor_seg_transform_2['val']\n",
    ")\n",
    "\n",
    "logger.debug(\"Data loaded\")\n",
    "logger.debug(f\"Length of dataset: {len(val_dataset_orig)}, {len(val_dataset_median)}\")\n",
    "\n",
    "\n",
    "brain_slice = val_dataset_orig[0]['image']\n",
    "print(brain_slice.shape)\n",
    "h_index = brain_slice.shape[-1]//2"
   ]
  },
  {
   "cell_type": "code",
   "execution_count": null,
   "metadata": {},
   "outputs": [],
   "source": [
    "idx_ = 1\n",
    "\n",
    "this_data = val_dataset_orig[idx_]\n",
    "brain_slice = this_data['image'][1][...,h_index].T\n",
    "print(brain_slice.shape)\n",
    "plt.figure()\n",
    "plt.title(f'Original: {this_data[\"id\"]}')\n",
    "plt.imshow(brain_slice, cmap='gray')\n",
    "plt.colorbar()\n",
    "\n",
    "brain_slice = this_data['label'][1][...,h_index].T\n",
    "plt.figure()\n",
    "plt.title(f'Label: {this_data[\"id\"]}')\n",
    "plt.imshow(brain_slice, cmap='gray')\n",
    "plt.colorbar()\n",
    "\n",
    "this_data = val_dataset_median[idx_]\n",
    "brain_slice = this_data['image'][1][...,h_index].T\n",
    "print(brain_slice.shape)\n",
    "plt.figure()\n",
    "plt.title(f'Median: {this_data[\"id\"]}')\n",
    "plt.imshow(brain_slice, cmap='gray')\n",
    "plt.colorbar()"
   ]
  },
  {
   "cell_type": "code",
   "execution_count": null,
   "metadata": {},
   "outputs": [],
   "source": [
    "train_dataset = BraTSDataset(\n",
    "    version='2017',\n",
    "    processed = USE_PROCESSED,\n",
    "    section = 'training',\n",
    "    seed = RANDOM_SEED,\n",
    "    transform = tumor_seg_transform['train']\n",
    ")\n",
    "\n",
    "brain_slice = train_dataset[0]['image']\n",
    "print(brain_slice.shape)\n",
    "h_index = brain_slice.shape[-1]//2\n",
    "\n",
    "this_data = train_dataset[4]\n",
    "brain_slice = this_data['image'][1][...,h_index].T\n",
    "print(brain_slice.shape)\n",
    "plt.imshow(brain_slice, cmap='gray')"
   ]
  },
  {
   "cell_type": "code",
   "execution_count": null,
   "metadata": {},
   "outputs": [],
   "source": [
    "brain_slice = val_dataset[0]['image']\n",
    "print(brain_slice.shape)"
   ]
  },
  {
   "cell_type": "code",
   "execution_count": null,
   "metadata": {},
   "outputs": [],
   "source": [
    "import numpy as np\n",
    "id_ = 75\n",
    "ids_ = val_dataset.ids\n",
    "this_data = val_dataset[np.where(ids_ == id_)[0][0]]\n",
    "brain_slice = val_dataset[0]['image'][1][...,77].T\n",
    "print(brain_slice.shape)\n",
    "plt.imshow(brain_slice, cmap='gray')"
   ]
  }
 ],
 "metadata": {
  "kernelspec": {
   "display_name": "myenv-4",
   "language": "python",
   "name": "myenv-4"
  },
  "language_info": {
   "codemirror_mode": {
    "name": "ipython",
    "version": 3
   },
   "file_extension": ".py",
   "mimetype": "text/x-python",
   "name": "python",
   "nbconvert_exporter": "python",
   "pygments_lexer": "ipython3",
   "version": "3.9.12"
  }
 },
 "nbformat": 4,
 "nbformat_minor": 2
}
