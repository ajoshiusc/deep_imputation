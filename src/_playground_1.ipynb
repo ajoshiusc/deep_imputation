{
 "cells": [
  {
   "cell_type": "code",
   "execution_count": 1,
   "metadata": {},
   "outputs": [],
   "source": [
    "import os\n",
    "import time\n",
    "import matplotlib.pyplot as plt\n",
    "import pdb\n",
    "import pandas as pd\n",
    "import pickle\n",
    "\n",
    "from monai.apps import DecathlonDataset\n",
    "from monai.config import print_config\n",
    "from monai.data import DataLoader, decollate_batch\n",
    "from monai.handlers.utils import from_engine\n",
    "from monai.losses import DiceLoss\n",
    "from monai.inferers import sliding_window_inference\n",
    "from monai.metrics import DiceMetric\n",
    "from monai.networks.nets import SegResNet\n",
    "from monai.transforms import (\n",
    "    Activations,\n",
    "    AsDiscrete,\n",
    "    Compose,\n",
    ")\n",
    "from monai.utils import set_determinism\n",
    "from tqdm import tqdm\n",
    "\n",
    "import torch\n",
    "from torch.utils.data import Subset\n",
    "\n",
    "from utils.dataset import BraTSDataset\n",
    "from utils.model import create_SegResNet, inference\n",
    "from utils.transforms import tumor_seg_transform\n",
    "\n",
    "# print_config()"
   ]
  },
  {
   "cell_type": "code",
   "execution_count": 2,
   "metadata": {},
   "outputs": [
    {
     "name": "stdout",
     "output_type": "stream",
     "text": [
      "[INFO] Logging level is: DEBUG\n"
     ]
    }
   ],
   "source": [
    "from utils.logger import Logger\n",
    "logger = Logger(log_level='DEBUG')"
   ]
  },
  {
   "cell_type": "code",
   "execution_count": 4,
   "metadata": {},
   "outputs": [],
   "source": [
    "USE_PROCESSED = False\n",
    "RANDOM_SEED = 0"
   ]
  },
  {
   "cell_type": "code",
   "execution_count": 5,
   "metadata": {},
   "outputs": [],
   "source": [
    "set_determinism(seed=RANDOM_SEED)"
   ]
  },
  {
   "cell_type": "code",
   "execution_count": 6,
   "metadata": {},
   "outputs": [
    {
     "name": "stdout",
     "output_type": "stream",
     "text": [
      "[DEBUG] Data loaded\n",
      "[DEBUG] Length of dataset: 386, 97\n",
      "[DEBUG] Batch-size: 2, 2\n",
      "[DEBUG] Length of data-loaders: 193, 49\n"
     ]
    }
   ],
   "source": [
    "train_dataset = BraTSDataset(\n",
    "    version='2017',\n",
    "    processed = USE_PROCESSED,\n",
    "    section = 'training',\n",
    "    seed = RANDOM_SEED,\n",
    "    transform = tumor_seg_transform['train']\n",
    ")\n",
    "\n",
    "val_dataset = BraTSDataset(\n",
    "    version='2017',\n",
    "    processed = USE_PROCESSED,\n",
    "    section = 'validation',\n",
    "    seed = RANDOM_SEED,\n",
    "    transform = tumor_seg_transform['val']\n",
    ")\n",
    "\n",
    "logger.debug(\"Data loaded\")\n",
    "logger.debug(f\"Length of dataset: {len(train_dataset)}, {len(val_dataset)}\")"
   ]
  },
  {
   "cell_type": "code",
   "execution_count": 9,
   "metadata": {},
   "outputs": [
    {
     "name": "stdout",
     "output_type": "stream",
     "text": [
      "[  1   2   3   4   6   7   8   9  10  13  14  15  16  17  18  19  20  23\n",
      "  24  25  26  27  28  30  31  32  34  35  36  37  38  39  40  42  43  44\n",
      "  45  46  47  48  49  50  51  53  54  55  56  57  58  62  64  66  67  69\n",
      "  70  72  74  77  78  79  80  81  82  83  84  86  87  89  92  93  94  95\n",
      "  96  98 100 101 103 104 105 106 108 110 111 112 113 114 116 117 118 119\n",
      " 120 121 122 123 124 125 126 127 129 130 131 132 133 134 135 136 137 138\n",
      " 139 140 142 144 145 146 147 148 149 150 152 153 154 155 156 157 158 159\n",
      " 160 161 162 163 164 165 166 168 169 170 171 174 176 177 178 179 180 181\n",
      " 182 183 184 185 186 188 190 192 193 195 197 198 201 202 203 204 205 206\n",
      " 207 208 209 210 212 215 216 217 218 220 221 222 224 226 227 228 230 231\n",
      " 232 233 234 235 236 237 239 240 241 243 244 245 246 247 249 250 251 252\n",
      " 253 254 256 257 258 259 260 261 262 265 266 267 268 269 270 271 273 274\n",
      " 275 276 277 279 280 281 282 283 285 286 287 288 291 292 294 295 296 297\n",
      " 299 300 301 302 303 304 306 307 309 310 311 313 314 315 316 318 319 320\n",
      " 321 322 323 324 325 326 327 330 332 333 334 336 337 338 339 340 342 343\n",
      " 344 345 348 350 351 352 353 354 355 356 358 359 360 361 362 365 366 367\n",
      " 368 369 370 372 374 375 376 377 379 380 382 384 385 386 387 389 390 391\n",
      " 392 393 394 395 396 398 399 400 401 402 403 404 405 407 408 409 410 411\n",
      " 413 415 416 418 419 420 421 422 424 425 426 427 430 431 432 433 434 435\n",
      " 437 438 439 440 441 442 443 444 445 446 447 449 451 452 453 455 456 457\n",
      " 458 459 460 461 462 463 465 466 467 468 469 470 471 472 473 474 475 476\n",
      " 477 478 479 480 481 482 483 484]\n"
     ]
    }
   ],
   "source": [
    "ids_ = train_dataset.ids\n",
    "ids_.sort()\n",
    "print(ids_)"
   ]
  },
  {
   "cell_type": "code",
   "execution_count": 13,
   "metadata": {},
   "outputs": [
    {
     "name": "stdout",
     "output_type": "stream",
     "text": [
      "torch.Size([4, 64, 64, 64])\n"
     ]
    }
   ],
   "source": [
    "brain_slice = train_dataset[0]['image']\n",
    "print(brain_slice.shape)"
   ]
  },
  {
   "cell_type": "code",
   "execution_count": 14,
   "metadata": {},
   "outputs": [
    {
     "name": "stdout",
     "output_type": "stream",
     "text": [
      "torch.Size([4, 240, 240, 155])\n"
     ]
    }
   ],
   "source": [
    "brain_slice = val_dataset[0]['image']\n",
    "print(brain_slice.shape)"
   ]
  },
  {
   "cell_type": "code",
   "execution_count": 32,
   "metadata": {},
   "outputs": [
    {
     "name": "stdout",
     "output_type": "stream",
     "text": [
      "torch.Size([240, 240])\n"
     ]
    },
    {
     "data": {
      "text/plain": [
       "<matplotlib.image.AxesImage at 0x7fe44a869760>"
      ]
     },
     "execution_count": 32,
     "metadata": {},
     "output_type": "execute_result"
    },
    {
     "data": {
      "image/png": "[encoded data removed]",
      "text/plain": [
       "<Figure size 432x288 with 1 Axes>"
      ]
     },
     "metadata": {
      "needs_background": "light"
     },
     "output_type": "display_data"
    }
   ],
   "source": [
    "import numpy as np\n",
    "id_ = 75\n",
    "ids_ = val_dataset.ids\n",
    "this_data = val_dataset[np.where(ids_ == id_)[0][0]]\n",
    "brain_slice = val_dataset[0]['image'][1][...,77].T\n",
    "print(brain_slice.shape)\n",
    "plt.imshow(brain_slice, cmap='gray')"
   ]
  }
 ],
 "metadata": {
  "kernelspec": {
   "display_name": "myenv-4",
   "language": "python",
   "name": "myenv-4"
  },
  "language_info": {
   "codemirror_mode": {
    "name": "ipython",
    "version": 3
   },
   "file_extension": ".py",
   "mimetype": "text/x-python",
   "name": "python",
   "nbconvert_exporter": "python",
   "pygments_lexer": "ipython3",
   "version": "3.9.12"
  }
 },
 "nbformat": 4,
 "nbformat_minor": 2
}
