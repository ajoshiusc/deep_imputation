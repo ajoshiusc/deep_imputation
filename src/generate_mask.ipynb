{
 "cells": [
  {
   "cell_type": "markdown",
   "metadata": {},
   "source": [
    "## Verify the masking algorithms"
   ]
  },
  {
   "cell_type": "code",
   "execution_count": null,
   "metadata": {},
   "outputs": [],
   "source": [
    "from mask import Mask1\n",
    "\n",
    "# Mask-Algo 1 verification\n",
    "miss_prob_expected = [0.40, 0.12, 0.30, 0.15]\n",
    "mask_obj = Mask1(num_samples=10000, miss_prob_expected=miss_prob_expected, seed=0)\n",
    "mask_obj.verify()"
   ]
  },
  {
   "cell_type": "code",
   "execution_count": null,
   "metadata": {},
   "outputs": [],
   "source": [
    "from mask import Mask0\n",
    "\n",
    "# Mask-Algo 0 verification\n",
    "mask_obj = Mask0(num_samples=10000, num_contrasts=4, seed=0)\n",
    "mask_obj.verify()"
   ]
  },
  {
   "cell_type": "markdown",
   "metadata": {},
   "source": [
    "## Create mask info and save it"
   ]
  },
  {
   "cell_type": "code",
   "execution_count": null,
   "metadata": {},
   "outputs": [],
   "source": [
    "import os\n",
    "import matplotlib.pyplot as plt\n",
    "\n",
    "import pdb\n",
    "import numpy as np\n",
    "import pandas as pd\n",
    "from logger import Logger\n",
    "\n",
    "from dataset import BraTSDataset\n",
    "from transforms import tumor_seg_transform"
   ]
  },
  {
   "cell_type": "code",
   "execution_count": null,
   "metadata": {},
   "outputs": [],
   "source": [
    "mri_contrasts = [\"FLAIR\", \"T1w\", \"T1Gd\", \"T2w\"]\n",
    "miss_prob_expected = [0.40, 0.12, 0.30, 0.15]\n",
    "mask_root_dir = \"/scratch1/sachinsa/data/masks/brats2017\"\n",
    "RANDOM_SEED = 0\n",
    "\n",
    "logger = Logger(log_level='DEBUG')"
   ]
  },
  {
   "cell_type": "markdown",
   "metadata": {},
   "source": [
    "## Generate and save masks"
   ]
  },
  {
   "cell_type": "code",
   "execution_count": null,
   "metadata": {},
   "outputs": [],
   "source": [
    "for section in ['train', 'val']:\n",
    "    logger.debug(section)\n",
    "    if section == 'train':\n",
    "        dataset = BraTSDataset(\n",
    "            version='2017',\n",
    "            section = 'training',\n",
    "            seed = RANDOM_SEED,\n",
    "            transform = tumor_seg_transform['train']\n",
    "        )\n",
    "    else:\n",
    "        dataset = BraTSDataset(\n",
    "            version='2017',\n",
    "            section = 'validation',\n",
    "            seed = RANDOM_SEED,\n",
    "            transform = tumor_seg_transform['val']\n",
    "        )\n",
    "        \n",
    "    ids = dataset.get_ids()\n",
    "    num_samples=len(ids)\n",
    "    mask_obj = Mask1(num_samples=num_samples, miss_prob_expected=miss_prob_expected, seed=0)\n",
    "    miss_info = mask_obj.miss_info\n",
    "\n",
    "    mask_df = pd.DataFrame(miss_info, index=ids, columns=mri_contrasts)\n",
    "    logger.debug(mask_df.shape)\n",
    "    print(mask_df.head())\n",
    "\n",
    "    # save masking information\n",
    "    if section == 'train':\n",
    "        mask_df.to_csv(os.path.join(mask_root_dir, \"train_mask.csv\"), index=True)\n",
    "    else:\n",
    "        mask_df.to_csv(os.path.join(mask_root_dir, \"val_mask.csv\"), index=True)"
   ]
  },
  {
   "cell_type": "markdown",
   "metadata": {},
   "source": [
    "## Load masks"
   ]
  },
  {
   "cell_type": "code",
   "execution_count": null,
   "metadata": {},
   "outputs": [],
   "source": [
    "from mask import verify_mask_algo\n",
    "\n",
    "for section in ['train', 'val']:\n",
    "    logger.debug(section)\n",
    "    if section == 'train':\n",
    "        mask_df = pd.read_csv(os.path.join(mask_root_dir, \"train_mask.csv\"), index_col=0)\n",
    "    else:\n",
    "        mask_df = pd.read_csv(os.path.join(mask_root_dir, \"val_mask.csv\"), index_col=0)\n",
    "    logger.debug(mask_df.shape)\n",
    "    print(mask_df.head())\n",
    "    verify_mask_algo(mask_df.values, miss_prob_expected)"
   ]
  }
 ],
 "metadata": {
  "kernelspec": {
   "display_name": "myenv-4",
   "language": "python",
   "name": "myenv-4"
  },
  "language_info": {
   "codemirror_mode": {
    "name": "ipython",
    "version": 3
   },
   "file_extension": ".py",
   "mimetype": "text/x-python",
   "name": "python",
   "nbconvert_exporter": "python",
   "pygments_lexer": "ipython3",
   "version": "3.9.12"
  }
 },
 "nbformat": 4,
 "nbformat_minor": 2
}
