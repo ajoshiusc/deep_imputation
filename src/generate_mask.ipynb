{
 "cells": [
  {
   "cell_type": "markdown",
   "metadata": {},
   "source": [
    "## Verify the masking algorithms"
   ]
  },
  {
   "cell_type": "code",
   "execution_count": null,
   "metadata": {},
   "outputs": [],
   "source": [
    "from mask import Mask1\n",
    "\n",
    "# Mask-Algo 1 verification\n",
    "miss_prob_expected = [0.40, 0.12, 0.30, 0.15]\n",
    "miss_info = Mask1(num_samples=10000, miss_prob_expected=miss_prob_expected, seed=0)\n",
    "miss_info.verify()\n",
    "miss_info.miss_info"
   ]
  },
  {
   "cell_type": "code",
   "execution_count": null,
   "metadata": {},
   "outputs": [],
   "source": [
    "from mask import Mask0\n",
    "\n",
    "# Mask-Algo 0 verification\n",
    "miss_info = Mask0(num_samples=10000, num_contrasts=4, seed=0)\n",
    "miss_info.verify()\n",
    "miss_info.miss_info"
   ]
  },
  {
   "cell_type": "markdown",
   "metadata": {},
   "source": [
    "## Create mask info and save it"
   ]
  },
  {
   "cell_type": "code",
   "execution_count": null,
   "metadata": {},
   "outputs": [],
   "source": [
    "RANDOM_SEED = 0\n",
    "ROOT_DIR = \"/scratch1/sachinsa/cont_syn\""
   ]
  },
  {
   "cell_type": "code",
   "execution_count": null,
   "metadata": {},
   "outputs": [],
   "source": [
    "import os\n",
    "import matplotlib.pyplot as plt\n",
    "\n",
    "import pdb\n",
    "import numpy as np\n",
    "import pickle\n",
    "from logger import Logger\n",
    "\n",
    "import torch\n",
    "from monai.networks.nets import UNet\n",
    "from transforms import contr_syn_transform_2 as data_transform\n",
    "# from dataset import BraTSDataset"
   ]
  },
  {
   "cell_type": "code",
   "execution_count": null,
   "metadata": {},
   "outputs": [],
   "source": [
    "logger = Logger(log_level='DEBUG')\n",
    "# load_dir = os.path.join(ROOT_DIR, f\"run_{RUN_ID}\")"
   ]
  },
  {
   "cell_type": "code",
   "execution_count": null,
   "metadata": {},
   "outputs": [],
   "source": [
    "import os\n",
    "import numpy as np\n",
    "import json\n",
    "from torch.utils.data import Dataset, DataLoader, random_split\n",
    "import torch"
   ]
  },
  {
   "cell_type": "code",
   "execution_count": null,
   "metadata": {},
   "outputs": [],
   "source": [
    "def loadBRATS2017(root_dir):\n",
    "    json_file_path = os.path.join(root_dir, \"dataset.json\")\n",
    "    with open(json_file_path, 'r') as file:\n",
    "        properties = json.load(file)\n",
    "    return properties\n",
    "\n",
    "DATA_PATH = {\n",
    "    'BraTS_2017': '/scratch1/sachinsa/data/Task01_BrainTumour'\n",
    "}\n",
    "\n",
    "# TODO: Move out the mask logic from inside this class\n",
    "# TODO: Study MONAI DecathloanDataset and CacheDataset class to improve this class\n",
    "class BraTSDataset(Dataset):\n",
    "    def __init__(self, version, section, transform=None, seed=0, has_mask=True, has_label=True):\n",
    "        self.root_dir = DATA_PATH[f'BraTS_{version}']\n",
    "\n",
    "        if version == '2017':\n",
    "            self.properties = loadBRATS2017(self.root_dir)\n",
    "            self.image_filenames = self.properties['training']\n",
    "            \n",
    "            # removing BRATS_065 dataset as it disrupts training\n",
    "            self.image_filenames = [item for item in self.image_filenames if 'BRATS_065' not in item['image']]\n",
    "            \n",
    "            self.indices = np.array([int(filepath['image'][17:-7]) for filepath in self.image_filenames])\n",
    "            \n",
    "        self.has_mask = has_mask\n",
    "        self.mask = Mask0(num_samples=len(self.image_filenames), seed=seed)\n",
    "        \n",
    "        # TODO: if transform == None, use a default transform that simply loads the data\n",
    "        self.transform = transform\n",
    "\n",
    "    def __len__(self):\n",
    "        return len(self.image_filenames)\n",
    "\n",
    "    def __getitem__(self, idx):\n",
    "        img_name = os.path.normpath(os.path.join(self.root_dir,self.image_filenames[idx]['image']))\n",
    "        mask = self.mask.get(idx)\n",
    "        image = self.transform(img_name)\n",
    "        mask = torch.from_numpy(mask)\n",
    "\n",
    "        return {\"id\": self.image_filenames[idx]['image'][11:20], \"image\":image, \"mask\":mask}\n",
    "    \n",
    "    def get_with_id(self, id):\n",
    "        idx = self.indices.index(id)\n",
    "        return self.__getitem__(idx)\n",
    "    \n",
    "    def get_indices(self) -> np.ndarray:\n",
    "        \"\"\"\n",
    "        Get the indices of datalist used in this dataset.\n",
    "\n",
    "        \"\"\"\n",
    "        return self.indices\n",
    "    \n",
    "    def get_properties(self):\n",
    "        return self.properties"
   ]
  },
  {
   "cell_type": "code",
   "execution_count": null,
   "metadata": {},
   "outputs": [],
   "source": [
    "all_dataset = BraTSDataset(\n",
    "    version='2017',\n",
    "    section = 'all',\n",
    "    seed = RANDOM_SEED,\n",
    "    transform = data_transform['test']\n",
    ")\n",
    "\n",
    "indices = all_dataset.get_indices()\n",
    "print(\"len: \", len(indices))\n",
    "print(\"max: \", max(indices))\n",
    "print(indices)\n",
    "\n",
    "# properties = all_dataset.get_properties()\n",
    "# properties"
   ]
  },
  {
   "cell_type": "code",
   "execution_count": null,
   "metadata": {},
   "outputs": [],
   "source": [
    "from monai.apps import DecathlonDataset\n",
    "from transforms import tumor_seg_transform\n",
    "\n",
    "train_ds = DecathlonDataset(\n",
    "    root_dir='/scratch1/sachinsa/data',\n",
    "    task=\"Task01_BrainTumour\",\n",
    "    transform=tumor_seg_transform['train'],\n",
    "    section=\"training\",\n",
    "    download=True,\n",
    "    cache_rate=0.0,\n",
    "    num_workers=4,\n",
    ")"
   ]
  },
  {
   "cell_type": "code",
   "execution_count": null,
   "metadata": {},
   "outputs": [],
   "source": [
    "# indices = train_ds.get_indices()\n",
    "# print(len(indices))\n",
    "# print(indices)\n",
    "\n",
    "properties = train_ds.get_properties()\n",
    "properties"
   ]
  }
 ],
 "metadata": {
  "kernelspec": {
   "display_name": "myenv-4",
   "language": "python",
   "name": "myenv-4"
  },
  "language_info": {
   "codemirror_mode": {
    "name": "ipython",
    "version": 3
   },
   "file_extension": ".py",
   "mimetype": "text/x-python",
   "name": "python",
   "nbconvert_exporter": "python",
   "pygments_lexer": "ipython3",
   "version": "3.9.12"
  }
 },
 "nbformat": 4,
 "nbformat_minor": 2
}
